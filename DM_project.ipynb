{
  "nbformat": 4,
  "nbformat_minor": 0,
  "metadata": {
    "colab": {
      "name": "DM project.ipynb",
      "provenance": [],
      "collapsed_sections": [],
      "authorship_tag": "ABX9TyPZZniT/z4L+n1eSnMeF82w",
      "include_colab_link": true
    },
    "kernelspec": {
      "name": "python3",
      "display_name": "Python 3"
    },
    "language_info": {
      "name": "python"
    }
  },
  "cells": [
    {
      "cell_type": "markdown",
      "metadata": {
        "id": "view-in-github",
        "colab_type": "text"
      },
      "source": [
        "<a href=\"https://colab.research.google.com/github/maashon/PinterestSeleniumTest/blob/master/DM_project.ipynb\" target=\"_parent\"><img src=\"https://colab.research.google.com/assets/colab-badge.svg\" alt=\"Open In Colab\"/></a>"
      ]
    },
    {
      "cell_type": "code",
      "metadata": {
        "id": "Sw02_wQ5G-cv",
        "colab": {
          "base_uri": "https://localhost:8080/"
        },
        "outputId": "734776cf-1734-415c-b997-bd828e614deb"
      },
      "source": [
        "# mounting the drive cloud for loading the dataset and saving the resaults\n",
        "from google.colab import drive\n",
        "drive.mount('/content/drive')"
      ],
      "execution_count": 1,
      "outputs": [
        {
          "output_type": "stream",
          "text": [
            "Mounted at /content/drive\n"
          ],
          "name": "stdout"
        }
      ]
    },
    {
      "cell_type": "code",
      "metadata": {
        "id": "QaPyrBAEo4AA"
      },
      "source": [
        "#changing the file format for csv compatibility\n",
        "f=open('/content/drive/MyDrive/colab/data mining/practice/project/project_data.csv',\"r\")\n",
        "fo=open('/content/drive/MyDrive/colab/data mining/practice/project/data.csv',\"w\")\n",
        "c=1\n",
        "lines=f.readlines()\n",
        "for line in lines:\n",
        "  l=\"\"\n",
        "  s=line.split(\";\")\n",
        "  for i in range(len(s)):\n",
        "    l=l+s[i]+','\n",
        "  l=l[:-1]+\"\\n\"\n",
        "  fo.write(l)\n",
        "fo.close()\n",
        "f.close()"
      ],
      "execution_count": null,
      "outputs": []
    },
    {
      "cell_type": "code",
      "metadata": {
        "colab": {
          "base_uri": "https://localhost:8080/"
        },
        "id": "5BXy3ciakCz6",
        "outputId": "71a0393a-d7b0-4f4b-920c-4827ca28998c"
      },
      "source": [
        "#loading the dataset from drive\n",
        "import pandas as pd\n",
        "import numpy as np\n",
        "dataset = pd.read_csv('/content/drive/MyDrive/colab/data mining/practice/project/data.csv')\n",
        "print(dataset.iloc[:10,:])\n",
        "print(\"The data has {} records with {} null values\".format(len(dataset),dataset.isnull().sum().sum()))\n"
      ],
      "execution_count": 2,
      "outputs": [
        {
          "output_type": "stream",
          "text": [
            "   X01  X02  X03  X04   X05  X06  X07  ...   X15 X16   X17  X18   X19   X20  Y\n",
            "0  A11    6  A34  A43  1169  A65  A75  ...  A152   2  A173    1  A192  A201  1\n",
            "1  A12   48  A32  A43  5951  A61  A73  ...  A152   1  A173    1  A191  A201  2\n",
            "2  A14   12  A34  A46  2096  A61  A74  ...  A152   1  A172    2  A191  A201  1\n",
            "3  A11   42  A32  A42  7882  A61  A74  ...  A153   1  A173    2  A191  A201  1\n",
            "4  A11   24  A33  A40  4870  A61  A73  ...  A153   2  A173    2  A191  A201  2\n",
            "5  A14   36  A32  A46  9055  A65  A73  ...  A153   1  A172    2  A192  A201  1\n",
            "6  A14   24  A32  A42  2835  A63  A75  ...  A152   1  A173    1  A191  A201  1\n",
            "7  A12   36  A32  A41  6948  A61  A73  ...  A151   1  A174    1  A192  A201  1\n",
            "8  A14   12  A32  A43  3059  A64  A74  ...  A152   1  A172    1  A191  A201  1\n",
            "9  A12   30  A34  A40  5234  A61  A71  ...  A152   2  A174    1  A191  A201  2\n",
            "\n",
            "[10 rows x 21 columns]\n",
            "The data has 1000 records with 0 null values\n"
          ],
          "name": "stdout"
        }
      ]
    },
    {
      "cell_type": "code",
      "metadata": {
        "id": "arLh3O0leORT"
      },
      "source": [
        "# discretizing the data from string type\n",
        "from sklearn.preprocessing import LabelEncoder\n",
        "labelencoder = LabelEncoder()\n",
        "dataset.iloc[:, 0]=labelencoder.fit_transform(dataset.iloc[:, 0])\n",
        "dataset.iloc[:, 2]=labelencoder.fit_transform(dataset.iloc[:, 2])\n",
        "dataset.iloc[:, 3]=labelencoder.fit_transform(dataset.iloc[:, 3])\n",
        "dataset.iloc[:, 5]=labelencoder.fit_transform(dataset.iloc[:, 5])\n",
        "dataset.iloc[:, 6]=labelencoder.fit_transform(dataset.iloc[:, 6])\n",
        "dataset.iloc[:, 8]=labelencoder.fit_transform(dataset.iloc[:, 8])\n",
        "dataset.iloc[:, 9]=labelencoder.fit_transform(dataset.iloc[:, 9])\n",
        "dataset.iloc[:, 11]=labelencoder.fit_transform(dataset.iloc[:, 11])\n",
        "dataset.iloc[:, 13]=labelencoder.fit_transform(dataset.iloc[:, 13])\n",
        "dataset.iloc[:, 14]=labelencoder.fit_transform(dataset.iloc[:, 14])\n",
        "dataset.iloc[:, 16]=labelencoder.fit_transform(dataset.iloc[:, 16])\n",
        "dataset.iloc[:, 18]=labelencoder.fit_transform(dataset.iloc[:, 18])\n",
        "dataset.iloc[:, 19]=labelencoder.fit_transform(dataset.iloc[:, 19])\n",
        "X=dataset.iloc[:,:20]\n",
        "y=dataset.iloc[:, -1].values\n",
        "y = labelencoder.fit_transform(y)\n",
        "trainRatio=0.90\n",
        "\n"
      ],
      "execution_count": 3,
      "outputs": []
    },
    {
      "cell_type": "code",
      "metadata": {
        "colab": {
          "base_uri": "https://localhost:8080/",
          "height": 370
        },
        "id": "wKr8Lv-mmdyl",
        "outputId": "137e9671-fa8f-46c9-c8da-4b6b5c4ad46f"
      },
      "source": [
        "# measuring the dataset balance\n",
        "class0=0\n",
        "class1=1\n",
        "for i in range(len(y)):\n",
        "  if y[i]==0:\n",
        "    class0=class0+1;\n",
        "  else:\n",
        "    class1=class1+1\n",
        "import matplotlib.pyplot as plt\n",
        "\n",
        "fig = plt.figure()\n",
        "ax = fig.add_axes([1, 1, 1, 1])\n",
        "\n",
        "label = ['Good customer', 'Bad customer']\n",
        "count = [class0, class1]\n",
        "\n",
        "ax.bar(label, count, color = 'c')\n",
        "plt.xlabel(\"Customer Classes\",fontSize=14)\n",
        "plt.ylabel(\"No. of customers in the class\",fontSize=13)\n",
        "plt.title(\"Data balance\")\n",
        "plt.show()\n"
      ],
      "execution_count": 4,
      "outputs": [
        {
          "output_type": "display_data",
          "data": {
            "image/png": "[encoded data removed]",
            "text/plain": [
              "<Figure size 432x288 with 1 Axes>"
            ]
          },
          "metadata": {
            "tags": [],
            "needs_background": "light"
          }
        }
      ]
    },
    {
      "cell_type": "code",
      "metadata": {
        "id": "pd592CoJ77pP"
      },
      "source": [
        "# introducing the new model Quality criterion\n",
        "def inverseQualityMeasure(confusionMatrix):\n",
        "  qm=confusionMatrix[0][1]/(confusionMatrix[1][1]+confusionMatrix[0][1])\n",
        "  return int(qm*100)"
      ],
      "execution_count": 5,
      "outputs": []
    },
    {
      "cell_type": "code",
      "metadata": {
        "colab": {
          "base_uri": "https://localhost:8080/"
        },
        "id": "ZTxVRUUwMxKO",
        "outputId": "ce356e7f-0ea7-4f4a-cdb7-4e332794933a"
      },
      "source": [
        "# model 1) applying averaging KNN technique\n",
        "from sklearn.model_selection import train_test_split\n",
        "from sklearn.neighbors import KNeighborsClassifier\n",
        "from sklearn.metrics import classification_report\n",
        "from sklearn.metrics import confusion_matrix\n",
        "qmList=[]\n",
        "badF1List=[]\n",
        "avgF1List=[]\n",
        "\n",
        "numOfIteratoins=100;\n",
        "for i in range(numOfIteratoins):\n",
        "  X_train, X_test, y_train, y_test = train_test_split(X, y, train_size = trainRatio,shuffle=True,random_state=i)\n",
        "  knn = KNeighborsClassifier(n_neighbors =20)\n",
        "  knn.fit(X_train, y_train)\n",
        "  y_pred = knn.predict(X_test)\n",
        "  cm=confusion_matrix(y_test, y_pred)\n",
        "  qmList.append(inverseQualityMeasure(cm))\n",
        "  cr=classification_report(y_test, y_pred)\n",
        "  badF1Score=float(cr.split()[12])\n",
        "  badF1List.append(badF1Score*100)\n",
        "  avgF1Score=(float(cr.split()[7])+float(cr.split()[12]))/2\n",
        "  avgF1List.append(avgF1Score*100)\n",
        "badF1avg=sum(badF1List)/len(badF1List)\n",
        "avgF1avg=sum(avgF1List)/len(avgF1List)\n",
        "QMavg=sum(qmList)/len(qmList)\n",
        "\n",
        "print(\"The average quality of the model is : \",QMavg,\"and the average bad F1 score is : \",badF1avg,\" and average F1 score is :\",avgF1avg)\n",
        "modleResults={\"KNN\":{\"Quality\":QMavg,\"badF1Score\":badF1avg,\"averageF1Score\":avgF1avg}}\n",
        "\n",
        "#print(modleResults.get(\"KNN\")[\"badF1Score\"])\n",
        "\n"
      ],
      "execution_count": 7,
      "outputs": [
        {
          "output_type": "stream",
          "text": [
            "The average quality of the model is :  43.21 and the average bad F1 score is :  13.81  and average F1 score is : 47.695\n"
          ],
          "name": "stdout"
        }
      ]
    },
    {
      "cell_type": "code",
      "metadata": {
        "colab": {
          "base_uri": "https://localhost:8080/"
        },
        "id": "-G7mU9oYkgsA",
        "outputId": "dfa47c8d-311c-49f5-d628-403ce619129d"
      },
      "source": [
        "# model 2) applying averaging Logistic Regression \n",
        "from sklearn.linear_model import LogisticRegression\n",
        "from sklearn.metrics import confusion_matrix\n",
        "from sklearn.metrics import classification_report\n",
        "\n",
        "\n",
        "qmList=[]\n",
        "badF1List=[]\n",
        "avgF1List=[]\n",
        "\n",
        "numOfIteratoins=100;\n",
        "for i in range(numOfIteratoins):\n",
        "  X_train, X_test, y_train, y_test = train_test_split(X, y, train_size = trainRatio,shuffle=True,random_state=i)\n",
        "  lr = LogisticRegression(max_iter = 1500,random_state=i)\n",
        "  lr.fit(X_train, y_train)\n",
        "  y_pred = lr.predict(X_test)\n",
        "  cm=confusion_matrix(y_test, y_pred)\n",
        "  qmList.append(inverseQualityMeasure(cm))\n",
        "  cr=classification_report(y_test, y_pred)\n",
        "  badF1Score=float(cr.split()[12])\n",
        "  badF1List.append(badF1Score*100)\n",
        "  avgF1Score=(float(cr.split()[7])+float(cr.split()[12]))/2\n",
        "  avgF1List.append(avgF1Score*100)\n",
        "\n",
        "badF1avg=sum(badF1List)/len(badF1List)\n",
        "avgF1avg=sum(avgF1List)/len(avgF1List)\n",
        "QMavg=sum(qmList)/len(qmList)\n",
        "\n",
        "print(\"The average quality of the model is : \",QMavg,\"and the average bad F1 score is : \",badF1avg,\" and average F1 score is :\",avgF1avg)\n",
        "modleResults.update({\"LR\":{\"Quality\":QMavg,\"badF1Score\":badF1avg,\"averageF1Score\":avgF1avg}})\n",
        "\n",
        "#modleResults={\"LR\":{\"Quality\":QMavg,\"badF1Score\":badF1avg}}\n"
      ],
      "execution_count": 14,
      "outputs": [
        {
          "output_type": "stream",
          "text": [
            "The average quality of the model is :  35.82 and the average bad F1 score is :  51.65  and average F1 score is : 67.445\n"
          ],
          "name": "stdout"
        }
      ]
    },
    {
      "cell_type": "code",
      "metadata": {
        "id": "LAUxNmgHYQ_u",
        "colab": {
          "base_uri": "https://localhost:8080/"
        },
        "outputId": "37387c0d-ed3c-4df5-ca52-ab6e25361e52"
      },
      "source": [
        "# model 3) applying averaging Guassian method \n",
        "from sklearn.naive_bayes import GaussianNB\n",
        "from sklearn.metrics import confusion_matrix\n",
        "from sklearn.metrics import classification_report\n",
        "\n",
        "qmList=[]\n",
        "badF1List=[]\n",
        "avgF1List=[]\n",
        "numOfIteratoins=100;\n",
        "for i in range(numOfIteratoins):\n",
        "  X_train, X_test, y_train, y_test = train_test_split(X, y, train_size = trainRatio,shuffle=True,random_state=i)\n",
        "  gnb = GaussianNB()\n",
        "  gnb.fit(X_train, y_train)\n",
        "  y_pred = gnb.predict(X_test)\n",
        "  cm=confusion_matrix(y_test, y_pred)\n",
        "  qmList.append(inverseQualityMeasure(cm))\n",
        "  cr=classification_report(y_test, y_pred)\n",
        "  badF1Score=float(cr.split()[12])\n",
        "  badF1List.append(badF1Score*100)\n",
        "  avgF1Score=(float(cr.split()[7])+float(cr.split()[12]))/2\n",
        "  avgF1List.append(avgF1Score*100)\n",
        "  \n",
        "\n",
        "badF1avg=sum(badF1List)/len(badF1List)\n",
        "avgF1avg=sum(avgF1List)/len(avgF1List)\n",
        "QMavg=sum(qmList)/len(qmList)\n",
        "\n",
        "print(\"The average quality of the model is : \",QMavg,\"and the average bad F1 score is : \",badF1avg,\" and average F1 score is :\",avgF1avg)\n",
        "modleResults.update({\"GU\":{\"Quality\":QMavg,\"badF1Score\":badF1avg,\"averageF1Score\":avgF1avg}})\n",
        "\n",
        "\n"
      ],
      "execution_count": 9,
      "outputs": [
        {
          "output_type": "stream",
          "text": [
            "The average quality of the model is :  43.0 and the average bad F1 score is :  58.33  and average F1 score is : 69.535\n"
          ],
          "name": "stdout"
        }
      ]
    },
    {
      "cell_type": "code",
      "metadata": {
        "colab": {
          "base_uri": "https://localhost:8080/"
        },
        "id": "yCX690yrdeYV",
        "outputId": "2a502e54-bba2-4a95-db21-227f20a4cfa8"
      },
      "source": [
        "# model 4) applying averaging Random Forest method \n",
        "from sklearn.ensemble import RandomForestClassifier\n",
        "from sklearn.metrics import classification_report\n",
        "from sklearn.metrics import confusion_matrix\n",
        "\n",
        "qmList=[]\n",
        "badF1List=[]\n",
        "numOfIteratoins=100;\n",
        "for i in range(numOfIteratoins):\n",
        "  X_train, X_test, y_train, y_test = train_test_split(X, y, train_size = trainRatio,shuffle=True,random_state=i)\n",
        "  rf = RandomForestClassifier(max_depth=15,criterion=\"entropy\", random_state=0)\n",
        "  rf.fit(X_train, y_train)\n",
        "  y_pred = rf.predict(X_test)\n",
        "  cm=confusion_matrix(y_test, y_pred)\n",
        "  qmList.append(inverseQualityMeasure(cm))\n",
        "  cr=classification_report(y_test, y_pred)\n",
        "  badF1Score=float(cr.split()[12])\n",
        "  badF1List.append(badF1Score*100)\n",
        "  avgF1Score=(float(cr.split()[7])+float(cr.split()[12]))/2\n",
        "  avgF1List.append(avgF1Score*100)\n",
        "\n",
        "badF1avg=sum(badF1List)/len(badF1List)\n",
        "avgF1avg=sum(avgF1List)/len(avgF1List)\n",
        "QMavg=sum(qmList)/len(qmList)\n",
        "\n",
        "print(\"The average quality of the model is : \",QMavg,\"and the average bad F1 score is : \",badF1avg,\" and average F1 score is :\",avgF1avg)\n",
        "modleResults.update({\"RFC\":{\"Quality\":QMavg,\"badF1Score\":badF1avg,\"averageF1Score\":avgF1avg}})\n",
        "\n",
        "\n",
        "\n",
        "\n"
      ],
      "execution_count": 10,
      "outputs": [
        {
          "output_type": "stream",
          "text": [
            "The average quality of the model is :  31.88 and the average bad F1 score is :  51.62  and average F1 score is : 68.7175\n"
          ],
          "name": "stdout"
        }
      ]
    },
    {
      "cell_type": "code",
      "metadata": {
        "colab": {
          "base_uri": "https://localhost:8080/"
        },
        "id": "6iZRBUZnfeBH",
        "outputId": "7d27cdf6-bf1e-46fc-c1e7-b61463e75735"
      },
      "source": [
        "# model 5) applying Support vector machine\n",
        "from sklearn.preprocessing import StandardScaler\n",
        "from sklearn.svm import SVC\n",
        "from sklearn.pipeline import make_pipeline\n",
        "from sklearn.metrics import confusion_matrix\n",
        "\n",
        "qmList=[]\n",
        "badF1List=[]\n",
        "numOfIteratoins=100;\n",
        "for i in range(numOfIteratoins):\n",
        "  X_train, X_test, y_train, y_test = train_test_split(X, y, train_size = trainRatio,shuffle=True,random_state=i)\n",
        "  svm = make_pipeline(StandardScaler(), SVC(gamma='auto'))\n",
        "  svm.fit(X_train, y_train)\n",
        "  y_pred = svm.predict(X_test)\n",
        "  cm=confusion_matrix(y_test, y_pred)\n",
        "  qmList.append(inverseQualityMeasure(cm))\n",
        "  cr=classification_report(y_test, y_pred)\n",
        "  badF1Score=float(cr.split()[12])\n",
        "  badF1List.append(badF1Score*100)\n",
        "  avgF1Score=(float(cr.split()[7])+float(cr.split()[12]))/2\n",
        "  avgF1List.append(avgF1Score*100)\n",
        "\n",
        "badF1avg=sum(badF1List)/len(badF1List)\n",
        "avgF1avg=sum(avgF1List)/len(avgF1List)\n",
        "QMavg=sum(qmList)/len(qmList)\n",
        "print(\"The average quality of the model is : \",QMavg,\"and the average bad F1 score is : \",badF1avg,\" and average F1 score is :\",avgF1avg)\n",
        "modleResults.update({\"SVM\":{\"Quality\":QMavg,\"badF1Score\":badF1avg,\"averageF1Score\":avgF1avg}})\n",
        "\n",
        "\n",
        "\n"
      ],
      "execution_count": 11,
      "outputs": [
        {
          "output_type": "stream",
          "text": [
            "The average quality of the model is :  31.02 and the average bad F1 score is :  51.18  and average F1 score is : 68.38\n"
          ],
          "name": "stdout"
        }
      ]
    },
    {
      "cell_type": "code",
      "metadata": {
        "colab": {
          "base_uri": "https://localhost:8080/"
        },
        "id": "8oRpKWBva6xH",
        "outputId": "3e0d4bca-b433-4db2-9f1f-1e0f2bc825fb"
      },
      "source": [
        "print(modleResults)"
      ],
      "execution_count": 15,
      "outputs": [
        {
          "output_type": "stream",
          "text": [
            "{'KNN': {'Quality': 43.21, 'badF1Score': 13.81, 'averageF1Score': 47.695}, 'Lr': {'Quality': 35.82, 'badF1Score': 51.65, 'averageF1Score': 67.445}, 'GU': {'Quality': 43.0, 'badF1Score': 58.33, 'averageF1Score': 69.535}, 'RFC': {'Quality': 31.88, 'badF1Score': 51.62, 'averageF1Score': 68.7175}, 'SVM': {'Quality': 31.02, 'badF1Score': 51.18, 'averageF1Score': 68.38}, 'LR': {'Quality': 35.82, 'badF1Score': 51.65, 'averageF1Score': 67.445}}\n"
          ],
          "name": "stdout"
        }
      ]
    },
    {
      "cell_type": "code",
      "metadata": {
        "id": "SC7asB69Tm03",
        "colab": {
          "base_uri": "https://localhost:8080/",
          "height": 523
        },
        "outputId": "eccde56e-6822-41c8-de9e-8cfd2b2e90bd"
      },
      "source": [
        "#plotting the model results\n",
        "import numpy as np\n",
        "import matplotlib.pyplot as plt\n",
        "\n",
        "xLabel=[\"KNN\",\"LR\",\"GU\",\"RFC\",\"SVM\"]\n",
        "invQuality=[modleResults[\"KNN\"].get(\"Quality\"),modleResults[\"LR\"].get(\"Quality\"),modleResults[\"GU\"].get(\"Quality\"),modleResults[\"RFC\"].get(\"Quality\"),modleResults[\"SVM\"].get(\"Quality\")]\n",
        "badF1Score=[modleResults[\"KNN\"].get(\"badF1Score\"),modleResults[\"LR\"].get(\"badF1Score\"),modleResults[\"GU\"].get(\"badF1Score\"),modleResults[\"RFC\"].get(\"badF1Score\"),modleResults[\"SVM\"].get(\"badF1Score\")]\n",
        "avgF1Score=[modleResults[\"KNN\"].get(\"averageF1Score\"),modleResults[\"LR\"].get(\"averageF1Score\"),modleResults[\"GU\"].get(\"averageF1Score\"),modleResults[\"RFC\"].get(\"averageF1Score\"),modleResults[\"SVM\"].get(\"averageF1Score\")]\n",
        "barWidth = 0.25\n",
        "fig ,ax= plt.subplots(figsize =(12, 8))\n",
        "br1 = np.arange(5)+0.125\n",
        "br2 = [x + barWidth for x in br1]\n",
        "br3=[x + barWidth for x in br2]\n",
        "\n",
        "f1=plt.bar(br1, invQuality, color ='r', width = barWidth,\n",
        "        edgecolor ='grey', label ='Inverse quality')\n",
        "f2=plt.bar(br2, badF1Score, color ='g', width = barWidth,\n",
        "        edgecolor ='grey', label ='bad F1 Score')\n",
        "f3=plt.bar(br3, avgF1Score, color ='b', width = barWidth,\n",
        "        edgecolor ='grey', label ='Average F1 Score')\n",
        "plt.title(\"Model performance\",loc=\"center\")\n",
        "plt.xlabel('Models', fontweight ='bold', fontsize = 15)\n",
        "plt.ylabel('Score (Percent)', fontweight ='bold', fontsize = 15)\n",
        "plt.xticks([r + barWidth for r in range(5)],\n",
        "        ['KNN', 'LR', 'GU', 'RFC', 'SVM'],fontSize=15)\n",
        "def autolabel(rects):\n",
        "    # attach some text labels\n",
        "    for rect in rects:\n",
        "        height = rect.get_height()\n",
        "        ax.text(rect.get_x() + rect.get_width()/2., 1*height,\n",
        "                '%d' % int(height),\n",
        "                ha='center', va='bottom',fontSize=13)\n",
        "autolabel(f1)\n",
        "autolabel(f2)\n",
        "autolabel(f3)\n",
        "\n",
        "plt.legend()\n",
        "plt.show()\n",
        "\n"
      ],
      "execution_count": 18,
      "outputs": [
        {
          "output_type": "display_data",
          "data": {
            "image/png": "[encoded data removed]",
            "text/plain": [
              "<Figure size 864x576 with 1 Axes>"
            ]
          },
          "metadata": {
            "tags": [],
            "needs_background": "light"
          }
        }
      ]
    },
    {
      "cell_type": "code",
      "metadata": {
        "id": "U2hERmXW_2Wc"
      },
      "source": [
        "#defining functoins for scaling and normalizing data\n",
        "def scale(values,newMin,newMax):\n",
        "  out=np.zeros(len(values))\n",
        "  out = out.astype('float64')\n",
        "  oldMax=values.max()\n",
        "  oldMin=values.min()\n",
        "  for i in range(len(values)):\n",
        "    out[i]=(((values[i]-oldMin)/(oldMax-oldMin))*(newMax-newMin))+newMin\n",
        "  return out\n",
        "def Normalize(values):\n",
        "  out=np.zeros(len(values))\n",
        "  out = out.astype('float64')\n",
        "  oldMax=values.max()\n",
        "  oldMin=values.min()\n",
        "  for i in range(len(values)):\n",
        "    out[i]=(values[i]-oldMin)/(oldMax-oldMin)\n",
        "  return out\n",
        "def zScore(values):\n",
        "  out=np.zeros(len(values))\n",
        "  out = out.astype('float64')\n",
        "  mean=values.mean()\n",
        "  for i in range(len(values)):\n",
        "    out[i]=(values[i]-mean)/values.std()\n",
        "  return out"
      ],
      "execution_count": null,
      "outputs": []
    },
    {
      "cell_type": "code",
      "metadata": {
        "id": "i54X25EZFmL8",
        "colab": {
          "base_uri": "https://localhost:8080/"
        },
        "outputId": "3ad569c9-916a-4a3a-ad34-7bde59ff6899"
      },
      "source": [
        "#splitting the test and train sets\n",
        "from sklearn.model_selection import train_test_split\n",
        "X_train, X_test, y_train, y_test = train_test_split(X, y, train_size = 0.85,shuffle=True,random_state=4)\n",
        "print(X_train.shape, X_test.shape, y_train.shape, y_test.shape)\n",
        "#print(X_train.iloc[1,:],\"\\n\",y_train[1])\n"
      ],
      "execution_count": 154,
      "outputs": [
        {
          "output_type": "stream",
          "text": [
            "(850, 20) (150, 20) (850,) (150,)\n"
          ],
          "name": "stdout"
        }
      ]
    }
  ]
}